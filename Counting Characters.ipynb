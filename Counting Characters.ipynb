{
 "cells": [
  {
   "cell_type": "code",
   "execution_count": null,
   "id": "305ffd11",
   "metadata": {},
   "outputs": [],
   "source": [
    "str1=input('Input: ')\n",
    "letter=digit=0\n",
    "for ch in str1:\n",
    "    if ch.isalpha():\n",
    "        letter=letter+1\n",
    "    elif ch.isdigit():\n",
    "        digit=digit+1\n",
    "    else:\n",
    "        continue\n",
    "print('ALPHABETS :', letter)\n",
    "print('DIGITS :', digit)"
   ]
  }
 ],
 "metadata": {
  "kernelspec": {
   "display_name": "Python 3 (ipykernel)",
   "language": "python",
   "name": "python3"
  },
  "language_info": {
   "codemirror_mode": {
    "name": "ipython",
    "version": 3
   },
   "file_extension": ".py",
   "mimetype": "text/x-python",
   "name": "python",
   "nbconvert_exporter": "python",
   "pygments_lexer": "ipython3",
   "version": "3.9.7"
  }
 },
 "nbformat": 4,
 "nbformat_minor": 5
}
